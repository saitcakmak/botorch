{
 "cells": [
  {
   "cell_type": "markdown",
   "metadata": {},
   "source": [
    "## Multi-Fidelity BO with Discrete Fidelities using KG\n",
    "\n",
    "In this tutorial, we show how to do multi-fidelity BO with discrete fidelities based on [1], where each fidelity is a different \"information source.\" This tutorial uses the same setup as the [continuous multi-fidelity BO tutorial](https://botorch.org/docs/tutorials/multi_fidelity_bo), except with discrete fidelity parameters that are interpreted as multiple information sources.\n",
    "\n",
    "We use a GP model with a single task that models the design and fidelity parameters jointly. In some cases, where there is not a natural ordering in the fidelity space, it may be more appropriate to use a multi-task model (with, say, an ICM kernel). We will provide a tutorial once this functionality is in place.\n",
    "\n",
    "[1] [M. Poloczek, J. Wang, P.I. Frazier. Multi-Information Source Optimization. NeurIPS, 2017](https://papers.nips.cc/paper/2017/file/df1f1d20ee86704251795841e6a9405a-Paper.pdf)\n",
    "\n",
    "[2] [J. Wu, S. Toscano-Palmerin, P.I. Frazier, A.G. Wilson. Practical Multi-fidelity Bayesian Optimization for Hyperparameter Tuning. Conference on Uncertainty in Artificial Intelligence (UAI), 2019](https://arxiv.org/pdf/1903.04703.pdf)"
   ]
  },
  {
   "cell_type": "markdown",
   "metadata": {},
   "source": [
    "### Set dtype and device"
   ]
  },
  {
   "cell_type": "code",
   "execution_count": null,
   "metadata": {},
   "outputs": [],
   "source": [
    "# Install dependencies if we are running in colab\n",
    "import sys\n",
    "if 'google.colab' in sys.modules:\n",
    "    %pip install botorch"
   ]
  },
  {
   "cell_type": "code",
   "execution_count": 1,
   "metadata": {},
   "outputs": [],
   "source": [
    "import os\n",
    "import torch\n",
    "\n",
    "\n",
    "tkwargs = {\n",
    "    \"dtype\": torch.double,\n",
    "    \"device\": torch.device(\"cuda\" if torch.cuda.is_available() else \"cpu\"),\n",
    "}\n",
    "SMOKE_TEST = os.environ.get(\"SMOKE_TEST\")"
   ]
  },
  {
   "cell_type": "markdown",
   "metadata": {},
   "source": [
    "### Problem setup\n",
    "\n",
    "We'll consider the Augmented Hartmann multi-fidelity synthetic test problem. This function is a version of the Hartmann6 test function with an additional dimension representing the fidelity parameter; details are in [2]. The function takes the form $f(x,s)$ where $x \\in [0,1]^6$ and $s \\in \\{0.5, 0.75, 1\\}$. The target fidelity is 1.0, which means that our goal is to solve $\\max_x f(x,1.0)$ by making use of cheaper evaluations $f(x,s)$ for $s \\in \\{0.5, 0.75\\}$. In this example, we'll assume that the cost function takes the form $0.25 + s$, illustrating a situation where the fixed cost is $0.25$."
   ]
  },
  {
   "cell_type": "code",
   "execution_count": 2,
   "metadata": {},
   "outputs": [],
   "source": [
    "from botorch.test_functions.multi_fidelity import AugmentedHartmann\n",
    "\n",
    "\n",
    "problem = AugmentedHartmann(negate=True).to(**tkwargs)\n",
    "fidelities = torch.tensor([0.5, 0.75, 1.0], **tkwargs)"
   ]
  },
  {
   "cell_type": "markdown",
   "metadata": {},
   "source": [
    "#### Model initialization\n",
    "\n",
    "We use a `SingleTaskMultiFidelityGP` as the surrogate model, which uses a kernel from [2] that is well-suited for multi-fidelity applications. The `SingleTaskMultiFidelityGP` models the design and fidelity parameters jointly, so its domain is $[0,1]^7$."
   ]
  },
  {
   "cell_type": "code",
   "execution_count": 3,
   "metadata": {},
   "outputs": [],
   "source": [
    "from botorch.models.gp_regression_fidelity import SingleTaskMultiFidelityGP\n",
    "from botorch.models.transforms.outcome import Standardize\n",
    "from gpytorch.mlls.exact_marginal_log_likelihood import ExactMarginalLogLikelihood\n",
    "\n",
    "\n",
    "def generate_initial_data(n=16):\n",
    "    # generate training data\n",
    "    train_x = torch.rand(n, 6, **tkwargs)\n",
    "    train_f = fidelities[torch.randint(3, (n, 1))]\n",
    "    train_x_full = torch.cat((train_x, train_f), dim=1)\n",
    "    train_obj = problem(train_x_full).unsqueeze(-1)  # add output dimension\n",
    "    return train_x_full, train_obj\n",
    "\n",
    "\n",
    "def initialize_model(train_x, train_obj):\n",
    "    # define a surrogate model suited for a \"training data\"-like fidelity parameter\n",
    "    # in dimension 6, as in [2]\n",
    "    model = SingleTaskMultiFidelityGP(\n",
    "        train_x, train_obj, outcome_transform=Standardize(m=1), data_fidelities=[6]\n",
    "    )\n",
    "    mll = ExactMarginalLogLikelihood(model.likelihood, model)\n",
    "    return mll, model"
   ]
  },
  {
   "cell_type": "markdown",
   "metadata": {
    "originalKey": "8add142b-e32b-4f27-8f22-4386879512f6",
    "showInput": false
   },
   "source": [
    "#### Define a helper function to construct the MFKG acquisition function\n",
    "The helper function illustrates how one can initialize an $q$MFKG acquisition function. In this example, we assume that the affine cost is known. We then use the notion of a `CostAwareUtility` in BoTorch to scalarize the \"competing objectives\" of information gain and cost. The MFKG acquisition function optimizes the ratio of information gain to cost, which is captured by the `InverseCostWeightedUtility`.\n",
    "\n",
    "In order for MFKG to evaluate the information gain, it uses the model to predict the function value at the highest fidelity after conditioning on the observation. This is handled by the `project` argument, which specifies how to transform a tensor `X` to its target fidelity. We use a default helper function called `project_to_target_fidelity` to achieve this.\n",
    "\n",
    "An important point to keep in mind: in the case of standard KG, one can ignore the current value and simply optimize the expected maximum posterior mean of the next stage. However, for MFKG, since the goal is optimize information *gain* per cost, it is important to first compute the current value (i.e., maximum of the posterior mean at the target fidelity). To accomplish this, we use a `FixedFeatureAcquisitionFunction` on top of a `PosteriorMean`."
   ]
  },
  {
   "cell_type": "code",
   "execution_count": 4,
   "metadata": {},
   "outputs": [],
   "source": [
    "from botorch import fit_gpytorch_mll\n",
    "from botorch.models.cost import AffineFidelityCostModel\n",
    "from botorch.acquisition.cost_aware import InverseCostWeightedUtility\n",
    "from botorch.acquisition import PosteriorMean\n",
    "from botorch.acquisition.knowledge_gradient import qMultiFidelityKnowledgeGradient\n",
    "from botorch.acquisition.fixed_feature import FixedFeatureAcquisitionFunction\n",
    "from botorch.optim.optimize import optimize_acqf\n",
    "from botorch.acquisition.utils import project_to_target_fidelity\n",
    "\n",
    "bounds = torch.tensor([[0.0] * problem.dim, [1.0] * problem.dim], **tkwargs)\n",
    "target_fidelities = {6: 1.0}\n",
    "\n",
    "cost_model = AffineFidelityCostModel(fidelity_weights={6: 1.0}, fixed_cost=0.25)\n",
    "cost_aware_utility = InverseCostWeightedUtility(cost_model=cost_model)\n",
    "\n",
    "\n",
    "def project(X):\n",
    "    return project_to_target_fidelity(X=X, target_fidelities=target_fidelities)\n",
    "\n",
    "\n",
    "def get_mfkg(model):\n",
    "\n",
    "    curr_val_acqf = FixedFeatureAcquisitionFunction(\n",
    "        acq_function=PosteriorMean(model),\n",
    "        d=7,\n",
    "        columns=[6],\n",
    "        values=[1],\n",
    "    )\n",
    "\n",
    "    _, current_value = optimize_acqf(\n",
    "        acq_function=curr_val_acqf,\n",
    "        bounds=bounds[:, :-1],\n",
    "        q=1,\n",
    "        num_restarts=10 if not SMOKE_TEST else 2,\n",
    "        raw_samples=1024 if not SMOKE_TEST else 4,\n",
    "        options={\"batch_limit\": 10, \"maxiter\": 200},\n",
    "    )\n",
    "\n",
    "    return qMultiFidelityKnowledgeGradient(\n",
    "        model=model,\n",
    "        num_fantasies=128 if not SMOKE_TEST else 2,\n",
    "        current_value=current_value,\n",
    "        cost_aware_utility=cost_aware_utility,\n",
    "        project=project,\n",
    "    )"
   ]
  },
  {
   "cell_type": "markdown",
   "metadata": {},
   "source": [
    "#### Define a helper function that performs the essential BO step\n",
    "This helper function optimizes the acquisition function and returns the batch $\\{x_1, x_2, \\ldots x_q\\}$ along with the observed function values. The function `optimize_acqf_mixed` sequentially optimizes the acquisition function over $x$ for each value of the fidelity $s \\in \\{0, 0.5, 1.0\\}$."
   ]
  },
  {
   "cell_type": "code",
   "execution_count": 5,
   "metadata": {},
   "outputs": [],
   "source": [
    "from botorch.optim.optimize import optimize_acqf_mixed\n",
    "\n",
    "\n",
    "torch.set_printoptions(precision=3, sci_mode=False)\n",
    "\n",
    "NUM_RESTARTS = 5 if not SMOKE_TEST else 2\n",
    "RAW_SAMPLES = 128 if not SMOKE_TEST else 4\n",
    "BATCH_SIZE = 4\n",
    "\n",
    "\n",
    "def optimize_mfkg_and_get_observation(mfkg_acqf):\n",
    "    \"\"\"Optimizes MFKG and returns a new candidate, observation, and cost.\"\"\"\n",
    "\n",
    "    # generate new candidates\n",
    "    candidates, _ = optimize_acqf_mixed(\n",
    "        acq_function=mfkg_acqf,\n",
    "        bounds=bounds,\n",
    "        fixed_features_list=[{6: 0.5}, {6: 0.75}, {6: 1.0}],\n",
    "        q=BATCH_SIZE,\n",
    "        num_restarts=NUM_RESTARTS,\n",
    "        raw_samples=RAW_SAMPLES,\n",
    "        # batch_initial_conditions=X_init,\n",
    "        options={\"batch_limit\": 5, \"maxiter\": 200},\n",
    "    )\n",
    "\n",
    "    # observe new values\n",
    "    cost = cost_model(candidates).sum()\n",
    "    new_x = candidates.detach()\n",
    "    new_obj = problem(new_x).unsqueeze(-1)\n",
    "    print(f\"candidates:\\n{new_x}\\n\")\n",
    "    print(f\"observations:\\n{new_obj}\\n\\n\")\n",
    "    return new_x, new_obj, cost"
   ]
  },
  {
   "cell_type": "markdown",
   "metadata": {},
   "source": [
    "### Perform a few steps of multi-fidelity BO\n",
    "First, let's generate some initial random data and fit a surrogate model."
   ]
  },
  {
   "cell_type": "code",
   "execution_count": 6,
   "metadata": {},
   "outputs": [],
   "source": [
    "train_x, train_obj = generate_initial_data(n=16)"
   ]
  },
  {
   "cell_type": "markdown",
   "metadata": {},
   "source": [
    "We can now use the helper functions above to run a few iterations of BO."
   ]
  },
  {
   "cell_type": "code",
   "execution_count": 7,
   "metadata": {},
   "outputs": [
    {
     "name": "stdout",
     "output_type": "stream",
     "text": [
      "candidates:\n",
      "tensor([[0.288, 0.652, 0.749, 0.370, 0.264, 0.292, 0.500],\n",
      "        [0.391, 0.791, 0.665, 0.446, 0.274, 0.257, 0.500],\n",
      "        [0.293, 0.762, 0.743, 0.554, 0.354, 0.340, 0.500],\n",
      "        [0.374, 0.751, 0.898, 0.410, 0.410, 0.327, 0.500]],\n",
      "       dtype=torch.float64)\n",
      "\n",
      "observations:\n",
      "tensor([[0.755],\n",
      "        [1.417],\n",
      "        [0.782],\n",
      "        [0.788]], dtype=torch.float64)\n",
      "\n",
      "\n",
      "candidates:\n",
      "tensor([[0.277, 0.836, 0.908, 0.448, 0.129, 0.214, 0.500],\n",
      "        [0.783, 0.235, 0.616, 0.450, 0.208, 0.001, 0.500],\n",
      "        [0.417, 0.777, 0.740, 0.561, 0.228, 0.157, 0.500],\n",
      "        [0.456, 0.805, 0.952, 0.430, 0.277, 0.185, 0.500]],\n",
      "       dtype=torch.float64)\n",
      "\n",
      "observations:\n",
      "tensor([[1.351],\n",
      "        [0.029],\n",
      "        [2.414],\n",
      "        [1.783]], dtype=torch.float64)\n",
      "\n",
      "\n",
      "candidates:\n",
      "tensor([[0.418, 0.712, 0.254, 0.348, 0.754, 0.148, 0.500],\n",
      "        [0.431, 0.828, 0.731, 0.635, 0.324, 0.148, 0.500],\n",
      "        [0.433, 0.733, 0.750, 0.602, 0.342, 0.117, 0.500],\n",
      "        [0.443, 0.802, 0.630, 0.556, 0.175, 0.098, 0.500]],\n",
      "       dtype=torch.float64)\n",
      "\n",
      "observations:\n",
      "tensor([[1.211],\n",
      "        [2.512],\n",
      "        [2.407],\n",
      "        [2.816]], dtype=torch.float64)\n",
      "\n",
      "\n"
     ]
    }
   ],
   "source": [
    "cumulative_cost = 0.0\n",
    "N_ITER = 3 if not SMOKE_TEST else 1\n",
    "\n",
    "for i in range(N_ITER):\n",
    "    mll, model = initialize_model(train_x, train_obj)\n",
    "    fit_gpytorch_mll(mll)\n",
    "    mfkg_acqf = get_mfkg(model)\n",
    "    new_x, new_obj, cost = optimize_mfkg_and_get_observation(mfkg_acqf)\n",
    "    train_x = torch.cat([train_x, new_x])\n",
    "    train_obj = torch.cat([train_obj, new_obj])\n",
    "    cumulative_cost += cost"
   ]
  },
  {
   "cell_type": "markdown",
   "metadata": {},
   "source": [
    "### Make a final recommendation\n",
    "In multi-fidelity BO, there are usually fewer observations of the function at the target fidelity, so it is important to use a recommendation function that uses the correct fidelity. Here, we maximize the posterior mean with the fidelity dimension fixed to the target fidelity of 1.0."
   ]
  },
  {
   "cell_type": "code",
   "execution_count": 8,
   "metadata": {},
   "outputs": [],
   "source": [
    "def get_recommendation(model):\n",
    "    rec_acqf = FixedFeatureAcquisitionFunction(\n",
    "        acq_function=PosteriorMean(model),\n",
    "        d=7,\n",
    "        columns=[6],\n",
    "        values=[1],\n",
    "    )\n",
    "\n",
    "    final_rec, _ = optimize_acqf(\n",
    "        acq_function=rec_acqf,\n",
    "        bounds=bounds[:, :-1],\n",
    "        q=1,\n",
    "        num_restarts=10,\n",
    "        raw_samples=512,\n",
    "        options={\"batch_limit\": 5, \"maxiter\": 200},\n",
    "    )\n",
    "\n",
    "    final_rec = rec_acqf._construct_X_full(final_rec)\n",
    "\n",
    "    objective_value = problem(final_rec)\n",
    "    print(f\"recommended point:\\n{final_rec}\\n\\nobjective value:\\n{objective_value}\")\n",
    "    return final_rec"
   ]
  },
  {
   "cell_type": "code",
   "execution_count": 9,
   "metadata": {},
   "outputs": [
    {
     "name": "stdout",
     "output_type": "stream",
     "text": [
      "recommended point:\n",
      "tensor([[0.426, 0.776, 0.721, 0.580, 0.239, 0.139, 1.000]],\n",
      "       dtype=torch.float64)\n",
      "\n",
      "objective value:\n",
      "tensor([2.530], dtype=torch.float64)\n",
      "\n",
      "total cost: 9.0\n",
      "\n"
     ]
    }
   ],
   "source": [
    "final_rec = get_recommendation(model)\n",
    "print(f\"\\ntotal cost: {cumulative_cost}\\n\")"
   ]
  },
  {
   "cell_type": "markdown",
   "metadata": {},
   "source": [
    "### Comparison to standard (log)EI (always use target fidelity)\n",
    "Let's now repeat the same steps using a standard qLogExpectedImprovement acquisition function (note that this is not a rigorous comparison as we are only looking at one trial in order to keep computational requirements low)."
   ]
  },
  {
   "cell_type": "code",
   "execution_count": 10,
   "metadata": {},
   "outputs": [],
   "source": [
    "from botorch.acquisition import qLogExpectedImprovement\n",
    "\n",
    "\n",
    "def get_ei(model, best_f):\n",
    "        \n",
    "    return FixedFeatureAcquisitionFunction(\n",
    "        acq_function=qLogExpectedImprovement(model=model, best_f=best_f), d=7, columns=[6], values=[1],\n",
    "    )\n",
    "\n",
    "\n",
    "def optimize_ei_and_get_observation(ei_acqf):\n",
    "    \"\"\"Optimizes EI and returns a new candidate, observation, and cost.\"\"\"\n",
    "\n",
    "    candidates, _ = optimize_acqf(\n",
    "        acq_function=ei_acqf,\n",
    "        bounds=bounds[:, :-1],\n",
    "        q=BATCH_SIZE,\n",
    "        num_restarts=10,\n",
    "        raw_samples=512,\n",
    "        options={\"batch_limit\": 5, \"maxiter\": 200},\n",
    "    )\n",
    "\n",
    "    # add the fidelity parameter\n",
    "    candidates = ei_acqf._construct_X_full(candidates)\n",
    "\n",
    "    # observe new values\n",
    "    cost = cost_model(candidates).sum()\n",
    "    new_x = candidates.detach()\n",
    "    new_obj = problem(new_x).unsqueeze(-1)\n",
    "    print(f\"candidates:\\n{new_x}\\n\")\n",
    "    print(f\"observations:\\n{new_obj}\\n\\n\")\n",
    "    return new_x, new_obj, cost"
   ]
  },
  {
   "cell_type": "code",
   "execution_count": 11,
   "metadata": {},
   "outputs": [
    {
     "name": "stdout",
     "output_type": "stream",
     "text": [
      "candidates:\n",
      "tensor([[0.094, 0.141, 0.634, 0.353, 0.180, 0.597, 1.000],\n",
      "        [0.007, 0.306, 0.598, 0.332, 0.193, 0.608, 1.000],\n",
      "        [0.165, 0.256, 0.601, 0.341, 0.210, 0.759, 1.000],\n",
      "        [0.151, 0.236, 0.512, 0.427, 0.067, 0.686, 1.000]],\n",
      "       dtype=torch.float64)\n",
      "\n",
      "observations:\n",
      "tensor([[2.069],\n",
      "        [1.959],\n",
      "        [2.400],\n",
      "        [1.075]], dtype=torch.float64)\n",
      "\n",
      "\n",
      "candidates:\n",
      "tensor([[0.149, 0.240, 0.661, 0.305, 0.221, 0.787, 1.000],\n",
      "        [0.137, 0.496, 0.271, 0.591, 0.253, 0.628, 1.000],\n",
      "        [0.158, 0.192, 0.601, 0.298, 0.259, 0.744, 1.000],\n",
      "        [0.482, 0.586, 0.901, 0.094, 0.009, 0.307, 1.000]],\n",
      "       dtype=torch.float64)\n",
      "\n",
      "observations:\n",
      "tensor([[2.394],\n",
      "        [0.740],\n",
      "        [2.854],\n",
      "        [0.098]], dtype=torch.float64)\n",
      "\n",
      "\n",
      "candidates:\n",
      "tensor([[0.227, 0.783, 0.444, 0.154, 0.699, 0.328, 1.000],\n",
      "        [0.073, 0.907, 0.478, 0.442, 0.373, 0.133, 1.000],\n",
      "        [0.154, 0.153, 0.560, 0.270, 0.285, 0.730, 1.000],\n",
      "        [0.614, 0.621, 0.801, 0.116, 0.505, 0.647, 1.000]],\n",
      "       dtype=torch.float64)\n",
      "\n",
      "observations:\n",
      "tensor([[0.229],\n",
      "        [0.399],\n",
      "        [3.072],\n",
      "        [0.286]], dtype=torch.float64)\n",
      "\n",
      "\n"
     ]
    }
   ],
   "source": [
    "cumulative_cost = 0.0\n",
    "\n",
    "train_x, train_obj = generate_initial_data(n=16)\n",
    "\n",
    "for _ in range(N_ITER):\n",
    "    mll, model = initialize_model(train_x, train_obj)\n",
    "    fit_gpytorch_mll(mll)\n",
    "    ei_acqf = get_ei(model, best_f=train_obj.max())\n",
    "    new_x, new_obj, cost = optimize_ei_and_get_observation(ei_acqf)\n",
    "    train_x = torch.cat([train_x, new_x])\n",
    "    train_obj = torch.cat([train_obj, new_obj])\n",
    "    cumulative_cost += cost"
   ]
  },
  {
   "cell_type": "code",
   "execution_count": 12,
   "metadata": {},
   "outputs": [
    {
     "name": "stdout",
     "output_type": "stream",
     "text": [
      "recommended point:\n",
      "tensor([[0.159, 0.170, 0.580, 0.284, 0.277, 0.731, 1.000]],\n",
      "       dtype=torch.float64)\n",
      "\n",
      "objective value:\n",
      "tensor([3.018], dtype=torch.float64)\n",
      "\n",
      "total cost: 15.0\n",
      "\n"
     ]
    }
   ],
   "source": [
    "final_rec = get_recommendation(model)\n",
    "print(f\"\\ntotal cost: {cumulative_cost}\\n\")"
   ]
  }
 ],
 "metadata": {
  "kernelspec": {
   "display_name": "Python 3 (ipykernel)",
   "language": "python",
   "name": "python3"
  },
  "language_info": {
   "codemirror_mode": {
    "name": "ipython",
    "version": 3
   },
   "file_extension": ".py",
   "mimetype": "text/x-python",
   "name": "python",
   "nbconvert_exporter": "python",
   "pygments_lexer": "ipython3",
   "version": "3.11.6"
  }
 },
 "nbformat": 4,
 "nbformat_minor": 4
}
