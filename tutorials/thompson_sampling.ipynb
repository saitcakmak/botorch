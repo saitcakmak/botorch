{
 "cells": [
  {
   "cell_type": "markdown",
   "metadata": {},
   "source": [
    "## Tutorial on large-scale Thompson sampling\n",
    "\n",
    "This demo currently considers four approaches to discrete Thompson sampling on `m` candidates points:\n",
    "\n",
    "1. **Exact sampling with Cholesky:** Computing a Cholesky decomposition of the corresponding `m x m` covariance matrix which reuqires `O(m^3)` computational cost and `O(m^2)` space. This is the standard approach to sampling from a Gaussian process, but the quadratic memory usage and cubic compliexity limits the number of candidate points.\n",
    "\n",
    "2. **Contour integral quadrature (CIQ):** CIQ [1] is a Krylov subspace method combined with a rational approximation that can be used for computing matrix square roots of covariance matrices, which is the main bottleneck when sampling from a Gaussian process. CIQ relies on computing matrix vector multiplications with the exact kernel matrix which requires `O(m^2)` computational complexity and space.  The space complexity can be lowered to `O(m)` by using [KeOps](https://github.com/getkeops/keops), which is necessary to scale to large values of `m`.\n",
    "\n",
    "3. **Lanczos:** Rather than using CIQ, we can solve the linear systems `K^(1/2) v = b` using Lanczos and the conjugate gradient (CG) method. This will be faster than CIQ, but will generally produce samples of worse quality. Similarly to CIQ, we need to use KeOps as we reqiuire computing matrix vector multiplications with the exact kernel matrix.\n",
    "\n",
    "4. **Random Fourier features (RFFs):** The RFF kernel was originally proposed in [2] and we use it as implemented in GPyTorch. RFFs are computationally cheap to work with as the computational cost and space are both `O(km)` where `k` is the number of Fourier features.  Note that while Cholesky and CIQ are able to generate exact samples from the GP model, RFFs are an unbiased approximation and the resulting samples often aren't perfectly calibrated. \n",
    "\n",
    "\n",
    "[1] [Pleiss, Geoff, et al. \"Fast matrix square roots with applications to Gaussian processes and Bayesian optimization.\", Advances in neural information processing systems (2020)](https://proceedings.neurips.cc/paper/2020/file/fcf55a303b71b84d326fb1d06e332a26-Paper.pdf)\n",
    "\n",
    "[2] [Rahimi, Ali, and Benjamin Recht. \"Random features for large-scale kernel machines.\", Advances in neural information processing systems (2007)](https://people.eecs.berkeley.edu/~brecht/papers/07.rah.rec.nips.pdf)"
   ]
  },
  {
   "cell_type": "code",
   "execution_count": 1,
   "metadata": {},
   "outputs": [],
   "source": [
    "import os\n",
    "import time\n",
    "from contextlib import ExitStack\n",
    "\n",
    "import torch\n",
    "from torch.quasirandom import SobolEngine\n",
    "\n",
    "import gpytorch\n",
    "import gpytorch.settings as gpts\n",
    "import pykeops\n",
    "from botorch.fit import fit_gpytorch_model\n",
    "from botorch.generation import MaxPosteriorSampling\n",
    "from botorch.models import SingleTaskGP\n",
    "from botorch.test_functions import Hartmann\n",
    "from botorch.utils.transforms import unnormalize\n",
    "from gpytorch.constraints import Interval\n",
    "from gpytorch.distributions import MultivariateNormal\n",
    "from gpytorch.kernels import MaternKernel, RFFKernel, ScaleKernel\n",
    "from gpytorch.kernels.keops import MaternKernel as KMaternKernel\n",
    "from gpytorch.likelihoods import GaussianLikelihood\n",
    "from gpytorch.mlls import ExactMarginalLogLikelihood\n",
    "\n",
    "device = torch.device(\"cuda\" if torch.cuda.is_available() else \"cpu\")\n",
    "dtype = torch.double\n",
    "SMOKE_TEST = os.environ.get(\"SMOKE_TEST\")"
   ]
  },
  {
   "cell_type": "code",
   "execution_count": 2,
   "metadata": {},
   "outputs": [
    {
     "name": "stdout",
     "output_type": "stream",
     "text": [
      "\n",
      "pyKeOps with torch bindings is working!\n",
      "\n"
     ]
    }
   ],
   "source": [
    "pykeops.test_torch_bindings()  # Make sure the KeOps bindings are working"
   ]
  },
  {
   "cell_type": "code",
   "execution_count": 3,
   "metadata": {},
   "outputs": [],
   "source": [
    "hart6 = Hartmann(dim=6, negate=True).to(device=device, dtype=dtype)\n",
    "dim = hart6.dim\n",
    "\n",
    "\n",
    "def eval_objective(x):\n",
    "    \"\"\"This is a helper function we use to unnormalize and evalaute a point\"\"\"\n",
    "    return hart6(unnormalize(x, hart6.bounds))"
   ]
  },
  {
   "cell_type": "code",
   "execution_count": 4,
   "metadata": {},
   "outputs": [],
   "source": [
    "def get_initial_points(dim, n_pts, seed=None):\n",
    "    sobol = SobolEngine(dimension=dim, scramble=True, seed=seed)\n",
    "    X_init = sobol.draw(n=n_pts).to(dtype=dtype, device=device)\n",
    "    return X_init"
   ]
  },
  {
   "cell_type": "code",
   "execution_count": 5,
   "metadata": {},
   "outputs": [],
   "source": [
    "def generate_batch(\n",
    "    X,\n",
    "    Y,\n",
    "    batch_size,\n",
    "    n_candidates,\n",
    "    sampler=\"cholesky\",  # \"cholesky\", \"ciq\", \"rff\"\n",
    "    use_keops=False,\n",
    "):\n",
    "    assert sampler in (\"cholesky\", \"ciq\", \"rff\", \"lanczos\")\n",
    "    assert X.min() >= 0.0 and X.max() <= 1.0 and torch.all(torch.isfinite(Y))\n",
    "\n",
    "    # NOTE: We probably want to pass in the default priors in SingleTaskGP here later\n",
    "    kernel_kwargs = {\"nu\": 2.5, \"ard_num_dims\": X.shape[-1]}\n",
    "    if sampler == \"rff\":\n",
    "        base_kernel = RFFKernel(**kernel_kwargs, num_samples=1024)\n",
    "    else:\n",
    "        base_kernel = (\n",
    "            KMaternKernel(**kernel_kwargs) if use_keops else MaternKernel(**kernel_kwargs)\n",
    "        )\n",
    "    covar_module = ScaleKernel(base_kernel)\n",
    "\n",
    "    # Fit a GP model\n",
    "    train_Y = (Y - Y.mean()) / Y.std()\n",
    "    likelihood = GaussianLikelihood(noise_constraint=Interval(1e-8, 1e-3))\n",
    "    model = SingleTaskGP(X, train_Y, likelihood=likelihood, covar_module=covar_module)\n",
    "    mll = ExactMarginalLogLikelihood(model.likelihood, model)\n",
    "    fit_gpytorch_model(mll)\n",
    "\n",
    "    # Draw samples on a Sobol sequence\n",
    "    sobol = SobolEngine(X.shape[-1], scramble=True)\n",
    "    X_cand = sobol.draw(n_candidates).to(dtype=dtype, device=device)\n",
    "\n",
    "    # Thompson sample\n",
    "    with ExitStack() as es:\n",
    "        if sampler == \"cholesky\":\n",
    "            es.enter_context(gpts.max_cholesky_size(float(\"inf\")))\n",
    "        elif sampler == \"ciq\":\n",
    "            es.enter_context(gpts.fast_computations(covar_root_decomposition=True))\n",
    "            es.enter_context(gpts.max_cholesky_size(0))\n",
    "            es.enter_context(gpts.ciq_samples(True))\n",
    "            es.enter_context(gpts.minres_tolerance(2e-3))  # Controls accuracy and runtime\n",
    "            es.enter_context(gpts.num_contour_quadrature(15))\n",
    "        elif sampler == \"lanczos\":\n",
    "            es.enter_context(gpts.fast_computations(covar_root_decomposition=True))\n",
    "            es.enter_context(gpts.max_cholesky_size(0))\n",
    "            es.enter_context(gpts.ciq_samples(False))\n",
    "        elif sampler == \"rff\":\n",
    "            es.enter_context(gpts.fast_computations(covar_root_decomposition=True))\n",
    "\n",
    "        thompson_sampling = MaxPosteriorSampling(model=model, replacement=False)\n",
    "        X_next = thompson_sampling(X_cand, num_samples=batch_size)\n",
    "\n",
    "    return X_next"
   ]
  },
  {
   "cell_type": "code",
   "execution_count": 6,
   "metadata": {},
   "outputs": [],
   "source": [
    "def run_optimization(sampler, n_candidates, n_init, max_evals, batch_size, use_keops=False, seed=None):\n",
    "    X = get_initial_points(dim, n_init, seed)\n",
    "    Y = torch.tensor([eval_objective(x) for x in X], dtype=dtype, device=device).unsqueeze(-1)\n",
    "    print(f\"{len(X)}) Best value: {Y.max().item():.2e}\")\n",
    "    \n",
    "    while len(X) < max_evals:\n",
    "        # Create a batch\n",
    "        start = time.time()\n",
    "        X_next = generate_batch(\n",
    "            X=X,\n",
    "            Y=Y,\n",
    "            batch_size=min(batch_size, max_evals - len(X)),\n",
    "            n_candidates=n_candidates,\n",
    "            sampler=sampler,\n",
    "            use_keops=use_keops,\n",
    "        )\n",
    "        end = time.time()\n",
    "        print(f\"Generated batch in {end - start:.1f} seconds\")\n",
    "        Y_next = torch.tensor(\n",
    "            [eval_objective(x) for x in X_next], dtype=dtype, device=device\n",
    "        ).unsqueeze(-1)\n",
    "        \n",
    "        # Append data\n",
    "        X = torch.cat((X, X_next), dim=0)\n",
    "        Y = torch.cat((Y, Y_next), dim=0)\n",
    "\n",
    "        print(f\"{len(X)}) Best value: {Y.max().item():.2e}\")\n",
    "    return X, Y"
   ]
  },
  {
   "cell_type": "code",
   "execution_count": 7,
   "metadata": {},
   "outputs": [],
   "source": [
    "batch_size = 5\n",
    "n_init = 10\n",
    "max_evals = 60\n",
    "seed = 0  # To get the same Sobol points\n",
    "\n",
    "shared_args = {\n",
    "    \"n_init\": n_init,\n",
    "    \"max_evals\": max_evals,\n",
    "    \"batch_size\": batch_size,\n",
    "    \"seed\": seed,\n",
    "}"
   ]
  },
  {
   "cell_type": "code",
   "execution_count": 8,
   "metadata": {},
   "outputs": [],
   "source": [
    "USE_KEOPS = True if not SMOKE_TEST else False\n",
    "N_CAND = 50000 if not SMOKE_TEST else 10\n",
    "N_CAND_CHOL = 10000 if not SMOKE_TEST else 10"
   ]
  },
  {
   "cell_type": "markdown",
   "metadata": {},
   "source": [
    "## Track memory footprint"
   ]
  },
  {
   "cell_type": "code",
   "execution_count": 9,
   "metadata": {},
   "outputs": [],
   "source": [
    "%load_ext memory_profiler"
   ]
  },
  {
   "cell_type": "markdown",
   "metadata": {},
   "source": [
    "## Cholesky with 10,000 candidates"
   ]
  },
  {
   "cell_type": "code",
   "execution_count": 10,
   "metadata": {},
   "outputs": [
    {
     "name": "stdout",
     "output_type": "stream",
     "text": [
      "10) Best value: 1.12e+00\n",
      "Generated batch in 0.7 seconds\n",
      "15) Best value: 1.12e+00\n",
      "Generated batch in 1.2 seconds\n",
      "20) Best value: 1.12e+00\n",
      "Generated batch in 1.1 seconds\n",
      "25) Best value: 1.12e+00\n",
      "Generated batch in 0.9 seconds\n",
      "30) Best value: 2.81e+00\n",
      "Generated batch in 0.9 seconds\n",
      "35) Best value: 2.81e+00\n",
      "Generated batch in 1.2 seconds\n",
      "40) Best value: 3.03e+00\n",
      "Generated batch in 1.0 seconds\n",
      "45) Best value: 3.03e+00\n",
      "Generated batch in 1.3 seconds\n",
      "50) Best value: 3.03e+00\n",
      "Generated batch in 1.2 seconds\n",
      "55) Best value: 3.03e+00\n",
      "Generated batch in 1.1 seconds\n",
      "60) Best value: 3.03e+00\n",
      "peak memory: 2661.07 MiB, increment: 23.34 MiB\n"
     ]
    }
   ],
   "source": [
    "%memit X_chol, Y_chol = run_optimization(\"cholesky\", N_CAND_CHOL, **shared_args)"
   ]
  },
  {
   "cell_type": "markdown",
   "metadata": {},
   "source": [
    "## RFF with 50,000 candidates"
   ]
  },
  {
   "cell_type": "code",
   "execution_count": 11,
   "metadata": {},
   "outputs": [
    {
     "name": "stdout",
     "output_type": "stream",
     "text": [
      "10) Best value: 1.12e+00\n",
      "Generated batch in 1.1 seconds\n",
      "15) Best value: 1.12e+00\n",
      "Generated batch in 1.0 seconds\n",
      "20) Best value: 1.40e+00\n",
      "Generated batch in 1.1 seconds\n",
      "25) Best value: 1.98e+00\n",
      "Generated batch in 0.9 seconds\n",
      "30) Best value: 2.07e+00\n",
      "Generated batch in 0.8 seconds\n",
      "35) Best value: 3.03e+00\n",
      "Generated batch in 1.0 seconds\n",
      "40) Best value: 3.10e+00\n",
      "Generated batch in 1.0 seconds\n",
      "45) Best value: 3.10e+00\n",
      "Generated batch in 1.2 seconds\n",
      "50) Best value: 3.10e+00\n",
      "Generated batch in 1.0 seconds\n",
      "55) Best value: 3.10e+00\n",
      "Generated batch in 1.0 seconds\n",
      "60) Best value: 3.11e+00\n",
      "peak memory: 2679.02 MiB, increment: 19.55 MiB\n"
     ]
    }
   ],
   "source": [
    "%memit X_rff, Y_rff = run_optimization(\"rff\", N_CAND, **shared_args)"
   ]
  },
  {
   "cell_type": "markdown",
   "metadata": {},
   "source": [
    "## Lanczos"
   ]
  },
  {
   "cell_type": "code",
   "execution_count": 12,
   "metadata": {},
   "outputs": [
    {
     "name": "stdout",
     "output_type": "stream",
     "text": [
      "10) Best value: 1.12e+00\n",
      "Generated batch in 4.4 seconds\n",
      "15) Best value: 1.12e+00\n",
      "Generated batch in 4.6 seconds\n",
      "20) Best value: 1.39e+00\n",
      "Generated batch in 4.5 seconds\n",
      "25) Best value: 1.39e+00\n",
      "Generated batch in 4.5 seconds\n",
      "30) Best value: 2.30e+00\n",
      "Generated batch in 4.4 seconds\n",
      "35) Best value: 2.66e+00\n",
      "Generated batch in 4.3 seconds\n",
      "40) Best value: 2.81e+00\n",
      "Generated batch in 4.5 seconds\n",
      "45) Best value: 3.09e+00\n",
      "Generated batch in 4.7 seconds\n",
      "50) Best value: 3.09e+00\n",
      "Generated batch in 4.6 seconds\n",
      "55) Best value: 3.12e+00\n",
      "Generated batch in 4.6 seconds\n",
      "60) Best value: 3.12e+00\n",
      "peak memory: 2691.95 MiB, increment: 14.54 MiB\n"
     ]
    }
   ],
   "source": [
    "%memit X_lanczos, Y_lanczos = run_optimization(\"lanczos\", N_CAND, use_keops=USE_KEOPS, **shared_args)"
   ]
  },
  {
   "cell_type": "markdown",
   "metadata": {},
   "source": [
    "## CIQ with 50,000 candidates"
   ]
  },
  {
   "cell_type": "code",
   "execution_count": 13,
   "metadata": {},
   "outputs": [
    {
     "name": "stdout",
     "output_type": "stream",
     "text": [
      "10) Best value: 1.12e+00\n",
      "Generated batch in 23.7 seconds\n",
      "15) Best value: 1.12e+00\n",
      "Generated batch in 30.6 seconds\n",
      "20) Best value: 1.83e+00\n",
      "Generated batch in 27.2 seconds\n",
      "25) Best value: 1.83e+00\n",
      "Generated batch in 25.4 seconds\n",
      "30) Best value: 2.36e+00\n",
      "Generated batch in 22.2 seconds\n",
      "35) Best value: 3.15e+00\n",
      "Generated batch in 28.7 seconds\n",
      "40) Best value: 3.15e+00\n",
      "Generated batch in 22.4 seconds\n",
      "45) Best value: 3.15e+00\n",
      "Generated batch in 27.2 seconds\n",
      "50) Best value: 3.15e+00\n",
      "Generated batch in 25.6 seconds\n",
      "55) Best value: 3.15e+00\n",
      "Generated batch in 25.6 seconds\n",
      "60) Best value: 3.15e+00\n",
      "peak memory: 2695.97 MiB, increment: 4.99 MiB\n"
     ]
    }
   ],
   "source": [
    "%memit X_ciq, Y_ciq = run_optimization(\"ciq\", N_CAND, use_keops=USE_KEOPS, **shared_args)"
   ]
  },
  {
   "cell_type": "markdown",
   "metadata": {},
   "source": [
    "## Plot"
   ]
  },
  {
   "cell_type": "code",
   "execution_count": 14,
   "metadata": {},
   "outputs": [
    {
     "data": {
      "image/png": "[encoded data removed]",
      "text/plain": [
       "<Figure size 720x576 with 1 Axes>"
      ]
     },
     "metadata": {
      "needs_background": "light"
     },
     "output_type": "display_data"
    }
   ],
   "source": [
    "import matplotlib\n",
    "import matplotlib.pyplot as plt\n",
    "import numpy as np\n",
    "\n",
    "\n",
    "fig = plt.figure(figsize=(10, 8))\n",
    "matplotlib.rcParams.update({\"font.size\": 20})\n",
    "\n",
    "results = [\n",
    "    (Y_chol.cpu(), \"Cholesky-10,000\", \"b\", \"\", 14, \"--\"),\n",
    "    (Y_rff.cpu(), \"RFF-50,000\", \"r\", \".\", 16, \"-\"),\n",
    "    (Y_lanczos.cpu(), \"Lanczos-50,000\", \"m\", \"^\", 9, \"-\"),\n",
    "    (Y_ciq.cpu(), \"CIQ-50,000\", \"g\", \"*\", 12, \"-\"),\n",
    "]\n",
    "\n",
    "optimum = hart6.optimal_value\n",
    "\n",
    "ax = fig.add_subplot(1, 1, 1)\n",
    "names = []\n",
    "for res, name, c, m, ms, ls in results:\n",
    "    names.append(name)\n",
    "    fx = res.cummax(dim=0)[0]\n",
    "    t = 1 + np.arange(len(fx))\n",
    "    plt.plot(t[0::2], fx[0::2], c=c, marker=m, linestyle=ls, markersize=ms)\n",
    "\n",
    "plt.plot([0, max_evals], [hart6.optimal_value, hart6.optimal_value], \"k--\", lw=3)\n",
    "plt.xlabel(\"Function value\", fontsize=18)\n",
    "plt.xlabel(\"Number of evaluations\", fontsize=18)\n",
    "plt.title(\"Hartmann6\", fontsize=24)\n",
    "plt.xlim([0, max_evals])\n",
    "plt.ylim([0.5, 3.5])\n",
    "\n",
    "plt.grid(True)\n",
    "plt.tight_layout()\n",
    "plt.legend(\n",
    "    names + [\"Global optimal value\"],\n",
    "    loc=\"lower right\",\n",
    "    ncol=1,\n",
    "    fontsize=18,\n",
    ")\n",
    "plt.show()"
   ]
  },
  {
   "cell_type": "code",
   "execution_count": null,
   "metadata": {},
   "outputs": [],
   "source": []
  }
 ],
 "metadata": {
  "kernelspec": {
   "display_name": "Python 3",
   "language": "python",
   "name": "python3"
  },
  "language_info": {
   "codemirror_mode": {
    "name": "ipython",
    "version": 3
   },
   "file_extension": ".py",
   "mimetype": "text/x-python",
   "name": "python",
   "nbconvert_exporter": "python",
   "pygments_lexer": "ipython3",
   "version": "3.7.9"
  }
 },
 "nbformat": 4,
 "nbformat_minor": 4
}
